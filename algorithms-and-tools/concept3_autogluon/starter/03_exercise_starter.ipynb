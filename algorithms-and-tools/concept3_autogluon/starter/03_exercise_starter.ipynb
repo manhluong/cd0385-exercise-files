{
 "cells": [
  {
   "cell_type": "markdown",
   "id": "d9520883-fb9c-42fd-8d73-d19e3a401c7f",
   "metadata": {},
   "source": [
    "Throughout this lesson, you've been trying different models on the same two datasets, wine and diabetes. Now, we're going to try our hand at accelerating this methodology by using AutoGluon. In this exercise, train two different AutonGluon models and see how they compare to previous iterations in exercise 1 and 2.\n",
    "\n",
    "You're tasked with completing the following steps:\n",
    "1. Load in the wine dataset from scikit learn.\n",
    "2. For the wine dataset, create a train and test split, 80% train / 20% test.\n",
    "3. Create a AutoGluon Classifier model with these hyper parameters:\n",
    "    1. time_limit: 120\n",
    "    2. presets: best_quality\n",
    "4. Output the model table summary\n",
    "5. Evaluate the trained model on the test dataset\n",
    "6. Load the diabetes dataset from scikit learn\n",
    "7. For the Diabetes dataset, create a train and test split, 80% train / 20% test.\n",
    "8. Create a AutoGluon Regression model with these hyper parameters:\n",
    "    1. eval_metric: r2\n",
    "    2. time_limit: 120\n",
    "    3. presets: best_quality\n",
    "9. Output the model table summary\n",
    "10. Evaluate the trained model on the test dataset"
   ]
  },
  {
   "cell_type": "markdown",
   "id": "8b0ac658-af67-4355-a789-147a1a98b7cd",
   "metadata": {},
   "source": [
    "## Setup"
   ]
  },
  {
   "cell_type": "markdown",
   "id": "dc846de2-0e72-4935-a786-ae65df4f2948",
   "metadata": {},
   "source": [
    "### Open up Sagemaker Studio"
   ]
  },
  {
   "cell_type": "markdown",
   "id": "4a4cbe42-87c5-4671-87e4-507764ad0ed4",
   "metadata": {},
   "source": [
    "1. Notebook should be using a `ml.t3.medium` instance (2 vCPU + 4 GiB)\n",
    "2. Notebook should be using kernal: `Python 3 (MXNet 1.8 Python 3.7 CPU Optimized)`"
   ]
  },
  {
   "cell_type": "code",
   "execution_count": 4,
   "id": "d158af04-dd1d-4e26-8e63-e81de4e6bbfc",
   "metadata": {},
   "outputs": [
    {
     "name": "stdout",
     "output_type": "stream",
     "text": [
      "Requirement already satisfied: pip in /usr/local/lib/python3.10/site-packages (22.3.1)\n",
      "Requirement already satisfied: setuptools in /usr/local/lib/python3.10/site-packages (65.6.3)\n",
      "Requirement already satisfied: wheel in /usr/local/lib/python3.10/site-packages (0.38.4)\n",
      "Requirement already satisfied: mxnet in /usr/local/lib/python3.10/site-packages (1.9.1)\n",
      "Requirement already satisfied: bokeh in /usr/local/lib/python3.10/site-packages (3.0.3)\n",
      "Requirement already satisfied: requests<3,>=2.20.0 in /usr/local/lib/python3.10/site-packages (from mxnet) (2.28.1)\n",
      "Requirement already satisfied: graphviz<0.9.0,>=0.8.1 in /usr/local/lib/python3.10/site-packages (from mxnet) (0.8.4)\n",
      "Requirement already satisfied: numpy<2.0.0,>1.16.0 in /usr/local/lib/python3.10/site-packages (from mxnet) (1.23.5)\n",
      "Requirement already satisfied: contourpy>=1 in /usr/local/lib/python3.10/site-packages (from bokeh) (1.0.6)\n",
      "Requirement already satisfied: xyzservices>=2021.09.1 in /usr/local/lib/python3.10/site-packages (from bokeh) (2022.9.0)\n",
      "Requirement already satisfied: packaging>=16.8 in /usr/local/lib/python3.10/site-packages (from bokeh) (22.0)\n",
      "Requirement already satisfied: PyYAML>=3.10 in /usr/local/lib/python3.10/site-packages (from bokeh) (6.0)\n",
      "Requirement already satisfied: pillow>=7.1.0 in /usr/local/lib/python3.10/site-packages (from bokeh) (9.3.0)\n",
      "Requirement already satisfied: pandas>=1.2 in /usr/local/lib/python3.10/site-packages (from bokeh) (1.5.2)\n",
      "Requirement already satisfied: Jinja2>=2.9 in /usr/local/lib/python3.10/site-packages (from bokeh) (3.1.2)\n",
      "Requirement already satisfied: tornado>=5.1 in /usr/local/lib/python3.10/site-packages (from bokeh) (6.2)\n",
      "Requirement already satisfied: MarkupSafe>=2.0 in /usr/local/lib/python3.10/site-packages (from Jinja2>=2.9->bokeh) (2.1.1)\n",
      "Requirement already satisfied: python-dateutil>=2.8.1 in /usr/local/lib/python3.10/site-packages (from pandas>=1.2->bokeh) (2.8.2)\n",
      "Requirement already satisfied: pytz>=2020.1 in /usr/local/lib/python3.10/site-packages (from pandas>=1.2->bokeh) (2022.6)\n",
      "Requirement already satisfied: urllib3<1.27,>=1.21.1 in /usr/local/lib/python3.10/site-packages (from requests<3,>=2.20.0->mxnet) (1.26.13)\n",
      "Requirement already satisfied: idna<4,>=2.5 in /usr/local/lib/python3.10/site-packages (from requests<3,>=2.20.0->mxnet) (3.4)\n",
      "Requirement already satisfied: certifi>=2017.4.17 in /Users/luongbui/Library/Python/3.10/lib/python/site-packages (from requests<3,>=2.20.0->mxnet) (2022.6.15)\n",
      "Requirement already satisfied: charset-normalizer<3,>=2 in /usr/local/lib/python3.10/site-packages (from requests<3,>=2.20.0->mxnet) (2.1.1)\n",
      "Requirement already satisfied: six>=1.5 in /usr/local/lib/python3.10/site-packages (from python-dateutil>=2.8.1->pandas>=1.2->bokeh) (1.16.0)\n",
      "Looking in links: https://download.pytorch.org/whl/cpu/torch_stable.html\n",
      "\u001b[31mERROR: Could not find a version that satisfies the requirement torch==1.12+cpu (from versions: 1.11.0, 1.12.0, 1.12.1, 1.13.0, 1.13.1)\u001b[0m\u001b[31m\n",
      "\u001b[0m\u001b[31mERROR: No matching distribution found for torch==1.12+cpu\u001b[0m\u001b[31m\n",
      "\u001b[0m\u001b[31mERROR: Ignored the following versions that require a different python version: 0.1.0 Requires-Python >=3.6, <3.9; 0.1.0b20210207 Requires-Python >=3.6, <3.8; 0.1.0b20210208 Requires-Python >=3.6, <3.8; 0.1.0b20210209 Requires-Python >=3.6, <3.8; 0.1.0b20210210 Requires-Python >=3.6, <3.8; 0.1.0b20210211 Requires-Python >=3.6, <3.8; 0.1.0b20210212 Requires-Python >=3.6, <3.8; 0.1.0b20210213 Requires-Python >=3.6, <3.8; 0.1.0b20210214 Requires-Python >=3.6, <3.8; 0.1.0b20210215 Requires-Python >=3.6, <3.8; 0.1.0b20210216 Requires-Python >=3.6, <3.8; 0.1.0b20210217 Requires-Python >=3.6, <3.8; 0.1.0b20210218 Requires-Python >=3.6, <3.8; 0.1.0b20210219 Requires-Python >=3.6, <3.8; 0.1.0b20210220 Requires-Python >=3.6, <3.8; 0.1.0b20210221 Requires-Python >=3.6, <3.8; 0.1.0b20210222 Requires-Python >=3.6, <3.8; 0.1.0b20210223 Requires-Python >=3.6, <3.8; 0.1.0b20210224 Requires-Python >=3.6, <3.8; 0.1.0b20210225 Requires-Python >=3.6, <3.9; 0.1.0b20210226 Requires-Python >=3.6, <3.9; 0.1.0b20210227 Requires-Python >=3.6, <3.9; 0.1.0b20210228 Requires-Python >=3.6, <3.9; 0.1.1b20210302 Requires-Python >=3.6, <3.9; 0.1.1b20210303 Requires-Python >=3.6, <3.9; 0.1.1b20210304 Requires-Python >=3.6, <3.9; 0.1.1b20210305 Requires-Python >=3.6, <3.9; 0.1.1b20210306 Requires-Python >=3.6, <3.9; 0.1.1b20210307 Requires-Python >=3.6, <3.9; 0.1.1b20210308 Requires-Python >=3.6, <3.9; 0.1.1b20210309 Requires-Python >=3.6, <3.9; 0.1.1b20210310 Requires-Python >=3.6, <3.9; 0.1.1b20210311 Requires-Python >=3.6, <3.9; 0.1.1b20210312 Requires-Python >=3.6, <3.9; 0.1.1b20210313 Requires-Python >=3.6, <3.9; 0.1.1b20210314 Requires-Python >=3.6, <3.9; 0.1.1b20210315 Requires-Python >=3.6, <3.9; 0.1.1b20210317 Requires-Python >=3.6, <3.9; 0.1.1b20210318 Requires-Python >=3.6, <3.9; 0.1.1b20210319 Requires-Python >=3.6, <3.9; 0.1.1b20210320 Requires-Python >=3.6, <3.9; 0.1.1b20210321 Requires-Python >=3.6, <3.9; 0.1.1b20210322 Requires-Python >=3.6, <3.9; 0.1.1b20210323 Requires-Python >=3.6, <3.9; 0.1.1b20210324 Requires-Python >=3.6, <3.9; 0.1.1b20210325 Requires-Python >=3.6, <3.9; 0.1.1b20210326 Requires-Python >=3.6, <3.9; 0.1.1b20210327 Requires-Python >=3.6, <3.9; 0.1.1b20210328 Requires-Python >=3.6, <3.9; 0.1.1b20210329 Requires-Python >=3.6, <3.9; 0.1.1b20210330 Requires-Python >=3.6, <3.9; 0.1.1b20210331 Requires-Python >=3.6, <3.9; 0.1.1b20210401 Requires-Python >=3.6, <3.9; 0.1.1b20210402 Requires-Python >=3.6, <3.9; 0.1.1b20210403 Requires-Python >=3.6, <3.9; 0.1.1b20210404 Requires-Python >=3.6, <3.9; 0.1.1b20210405 Requires-Python >=3.6, <3.9; 0.1.1b20210406 Requires-Python >=3.6, <3.9; 0.1.1b20210407 Requires-Python >=3.6, <3.9; 0.1.1b20210408 Requires-Python >=3.6, <3.9; 0.1.1b20210409 Requires-Python >=3.6, <3.9; 0.1.1b20210410 Requires-Python >=3.6, <3.9; 0.1.1b20210411 Requires-Python >=3.6, <3.9; 0.1.1b20210412 Requires-Python >=3.6, <3.9; 0.1.1b20210413 Requires-Python >=3.6, <3.9; 0.1.1b20210414 Requires-Python >=3.6, <3.9; 0.1.1b20210415 Requires-Python >=3.6, <3.9; 0.1.1b20210416 Requires-Python >=3.6, <3.9; 0.1.1b20210417 Requires-Python >=3.6, <3.9; 0.1.1b20210418 Requires-Python >=3.6, <3.9; 0.1.1b20210419 Requires-Python >=3.6, <3.9; 0.1.1b20210420 Requires-Python >=3.6, <3.9; 0.1.1b20210421 Requires-Python >=3.6, <3.9; 0.1.1b20210422 Requires-Python >=3.6, <3.9; 0.1.1b20210423 Requires-Python >=3.6, <3.9; 0.1.1b20210424 Requires-Python >=3.6, <3.9; 0.1.1b20210425 Requires-Python >=3.6, <3.9; 0.1.1b20210426 Requires-Python >=3.6, <3.9; 0.2.0 Requires-Python >=3.6, <3.9; 0.2.0b20210427 Requires-Python >=3.6, <3.9; 0.2.0b20210428 Requires-Python >=3.6, <3.9; 0.2.1b20210429 Requires-Python >=3.6, <3.9; 0.2.1b20210430 Requires-Python >=3.6, <3.9; 0.2.1b20210501 Requires-Python >=3.6, <3.9; 0.2.1b20210502 Requires-Python >=3.6, <3.9; 0.2.1b20210503 Requires-Python >=3.6, <3.9; 0.2.1b20210504 Requires-Python >=3.6, <3.9; 0.2.1b20210505 Requires-Python >=3.6, <3.9; 0.2.1b20210506 Requires-Python >=3.6, <3.9; 0.2.1b20210507 Requires-Python >=3.6, <3.9; 0.2.1b20210508 Requires-Python >=3.6, <3.9; 0.2.1b20210509 Requires-Python >=3.6, <3.9; 0.2.1b20210510 Requires-Python >=3.6, <3.9; 0.2.1b20210511 Requires-Python >=3.6, <3.9; 0.2.1b20210512 Requires-Python >=3.6, <3.9; 0.2.1b20210513 Requires-Python >=3.6, <3.9; 0.2.1b20210514 Requires-Python >=3.6, <3.9; 0.2.1b20210515 Requires-Python >=3.6, <3.9; 0.2.1b20210517 Requires-Python >=3.6, <3.9; 0.2.1b20210518 Requires-Python >=3.6, <3.9; 0.2.1b20210519 Requires-Python >=3.6, <3.9; 0.2.1b20210520 Requires-Python >=3.6, <3.9; 0.2.1b20210521 Requires-Python >=3.6, <3.9; 0.2.1b20210522 Requires-Python >=3.6, <3.9; 0.2.1b20210523 Requires-Python >=3.6, <3.9; 0.2.1b20210524 Requires-Python >=3.6, <3.9; 0.2.1b20210525 Requires-Python >=3.6, <3.9; 0.2.1b20210526 Requires-Python >=3.6, <3.9; 0.2.1b20210527 Requires-Python >=3.6, <3.9; 0.2.1b20210528 Requires-Python >=3.6, <3.9; 0.2.1b20210529 Requires-Python >=3.6, <3.9; 0.2.1b20210530 Requires-Python >=3.6, <3.9; 0.2.1b20210531 Requires-Python >=3.6, <3.9; 0.2.1b20210601 Requires-Python >=3.6, <3.9; 0.2.1b20210602 Requires-Python >=3.6, <3.9; 0.2.1b20210603 Requires-Python >=3.6, <3.9; 0.2.1b20210604 Requires-Python >=3.6, <3.9; 0.2.1b20210605 Requires-Python >=3.6, <3.9; 0.2.1b20210606 Requires-Python >=3.6, <3.9; 0.2.1b20210607 Requires-Python >=3.6, <3.9; 0.2.1b20210608 Requires-Python >=3.6, <3.9; 0.2.1b20210609 Requires-Python >=3.6, <3.9; 0.2.1b20210610 Requires-Python >=3.6, <3.9; 0.2.1b20210611 Requires-Python >=3.6, <3.9; 0.2.1b20210612 Requires-Python >=3.6, <3.9; 0.2.1b20210613 Requires-Python >=3.6, <3.9; 0.2.1b20210614 Requires-Python >=3.6, <3.9; 0.2.1b20210615 Requires-Python >=3.6, <3.9; 0.2.1b20210616 Requires-Python >=3.6, <3.9; 0.2.1b20210617 Requires-Python >=3.6, <3.9; 0.2.1b20210618 Requires-Python >=3.6, <3.9; 0.2.1b20210619 Requires-Python >=3.6, <3.9; 0.2.1b20210620 Requires-Python >=3.6, <3.9; 0.2.1b20210621 Requires-Python >=3.6, <3.9; 0.2.1b20210622 Requires-Python >=3.6, <3.9; 0.2.1b20210623 Requires-Python >=3.6, <3.9; 0.2.1b20210624 Requires-Python >=3.6, <3.9; 0.2.1b20210625 Requires-Python >=3.6, <3.9; 0.2.1b20210626 Requires-Python >=3.6, <3.9; 0.2.1b20210627 Requires-Python >=3.6, <3.9; 0.2.1b20210628 Requires-Python >=3.6, <3.9; 0.2.1b20210629 Requires-Python >=3.6, <3.9; 0.2.1b20210630 Requires-Python >=3.6, <3.9; 0.2.1b20210701 Requires-Python >=3.6, <3.9; 0.2.1b20210702 Requires-Python >=3.6, <3.9; 0.2.1b20210703 Requires-Python >=3.6, <3.9; 0.2.1b20210704 Requires-Python >=3.6, <3.9; 0.2.1b20210705 Requires-Python >=3.6, <3.9; 0.2.1b20210706 Requires-Python >=3.6, <3.9; 0.2.1b20210707 Requires-Python >=3.6, <3.9; 0.2.1b20210708 Requires-Python >=3.6, <3.9; 0.2.1b20210709 Requires-Python >=3.6, <3.9; 0.2.1b20210710 Requires-Python >=3.6, <3.9; 0.2.1b20210711 Requires-Python >=3.6, <3.9; 0.2.1b20210712 Requires-Python >=3.6, <3.9; 0.2.1b20210713 Requires-Python >=3.6, <3.9; 0.2.1b20210714 Requires-Python >=3.6, <3.9; 0.2.1b20210715 Requires-Python >=3.6, <3.9; 0.2.1b20210716 Requires-Python >=3.6, <3.9; 0.2.1b20210717 Requires-Python >=3.6, <3.9; 0.2.1b20210718 Requires-Python >=3.6, <3.9; 0.2.1b20210719 Requires-Python >=3.6, <3.9; 0.2.1b20210720 Requires-Python >=3.6, <3.9; 0.2.1b20210721 Requires-Python >=3.6, <3.9; 0.2.1b20210722 Requires-Python >=3.6, <3.9; 0.2.1b20210723 Requires-Python >=3.6, <3.9; 0.2.1b20210724 Requires-Python >=3.6, <3.9; 0.2.1b20210725 Requires-Python >=3.6, <3.9; 0.2.1b20210726 Requires-Python >=3.6, <3.9; 0.2.1b20210727 Requires-Python >=3.6, <3.9; 0.2.1b20210728 Requires-Python >=3.6, <3.9; 0.2.1b20210729 Requires-Python >=3.6, <3.9; 0.2.1b20210730 Requires-Python >=3.6, <3.9; 0.2.1b20210731 Requires-Python >=3.6, <3.9; 0.2.1b20210801 Requires-Python >=3.6, <3.9; 0.2.1b20210802 Requires-Python >=3.6, <3.9; 0.2.1b20210803 Requires-Python >=3.6, <3.9; 0.2.1b20210804 Requires-Python >=3.6, <3.9; 0.2.1b20210805 Requires-Python >=3.6, <3.9; 0.2.1b20210806 Requires-Python >=3.6, <3.9; 0.2.1b20210807 Requires-Python >=3.6, <3.9; 0.2.1b20210808 Requires-Python >=3.6, <3.9; 0.2.1b20210809 Requires-Python >=3.6, <3.9; 0.2.1b20210810 Requires-Python >=3.6, <3.9; 0.2.1b20210811 Requires-Python >=3.6, <3.9; 0.2.1b20210812 Requires-Python >=3.6, <3.9; 0.2.1b20210813 Requires-Python >=3.6, <3.9; 0.3.0 Requires-Python >=3.6, <3.9; 0.3.0b20210814 Requires-Python >=3.6, <3.9; 0.3.1 Requires-Python >=3.6, <3.9; 0.3.1b20210815 Requires-Python >=3.6, <3.9; 0.3.1b20210816 Requires-Python >=3.6, <3.9; 0.3.1b20210817 Requires-Python >=3.6, <3.9; 0.3.1b20210818 Requires-Python >=3.6, <3.9; 0.3.1b20210819 Requires-Python >=3.6, <3.9; 0.3.1b20210820 Requires-Python >=3.6, <3.9; 0.3.1b20210821 Requires-Python >=3.6, <3.9; 0.3.1b20210822 Requires-Python >=3.6, <3.9; 0.3.1b20210823 Requires-Python >=3.6, <3.9; 0.3.1b20210824 Requires-Python >=3.6, <3.9; 0.3.1b20210825 Requires-Python >=3.6, <3.9; 0.3.1b20210826 Requires-Python >=3.6, <3.9; 0.3.1b20210827 Requires-Python >=3.6, <3.9; 0.3.1b20210828 Requires-Python >=3.6, <3.9; 0.3.1b20210829 Requires-Python >=3.6, <3.9; 0.3.1b20210830 Requires-Python >=3.6, <3.9; 0.3.1b20210831 Requires-Python >=3.6, <3.9; 0.3.2b20210901 Requires-Python >=3.6, <3.9; 0.3.2b20210902 Requires-Python >=3.6, <3.9; 0.3.2b20210903 Requires-Python >=3.6, <3.9; 0.3.2b20210904 Requires-Python >=3.6, <3.9; 0.3.2b20210905 Requires-Python >=3.6, <3.9; 0.3.2b20210906 Requires-Python >=3.6, <3.9; 0.3.2b20210907 Requires-Python >=3.6, <3.9; 0.3.2b20210908 Requires-Python >=3.6, <3.9; 0.3.2b20210909 Requires-Python >=3.6, <3.9; 0.3.2b20210910 Requires-Python >=3.6, <3.9; 0.3.2b20210911 Requires-Python >=3.6, <3.9; 0.3.2b20210912 Requires-Python >=3.6, <3.9; 0.3.2b20210913 Requires-Python >=3.6, <3.9; 0.3.2b20210914 Requires-Python >=3.6, <3.9; 0.3.2b20210915 Requires-Python >=3.6, <3.9; 0.3.2b20210916 Requires-Python >=3.6, <3.9; 0.3.2b20210917 Requires-Python >=3.6, <3.9; 0.3.2b20210918 Requires-Python >=3.6, <3.9; 0.3.2b20210919 Requires-Python >=3.6, <3.9; 0.3.2b20210920 Requires-Python >=3.6, <3.9; 0.3.2b20210921 Requires-Python >=3.6, <3.9; 0.3.2b20210922 Requires-Python >=3.6, <3.9; 0.3.2b20210923 Requires-Python >=3.6, <3.9; 0.3.2b20210924 Requires-Python >=3.6, <3.9; 0.3.2b20210925 Requires-Python >=3.6, <3.9; 0.3.2b20210926 Requires-Python >=3.6, <3.9; 0.3.2b20210927 Requires-Python >=3.6, <3.9; 0.3.2b20210928 Requires-Python >=3.6, <3.9; 0.3.2b20210929 Requires-Python >=3.6, <3.9; 0.3.2b20210930 Requires-Python >=3.6, <3.9; 0.3.2b20211001 Requires-Python >=3.6, <3.9; 0.3.2b20211002 Requires-Python >=3.6, <3.9; 0.3.2b20211003 Requires-Python >=3.6, <3.9; 0.3.2b20211004 Requires-Python >=3.6, <3.9; 0.3.2b20211005 Requires-Python >=3.6, <3.9; 0.3.2b20211006 Requires-Python >=3.6, <3.9; 0.3.2b20211007 Requires-Python >=3.6, <3.9; 0.3.2b20211008 Requires-Python >=3.6, <3.9; 0.3.2b20211009 Requires-Python >=3.6, <3.9; 0.3.2b20211010 Requires-Python >=3.6, <3.9; 0.3.2b20211011 Requires-Python >=3.6, <3.9; 0.3.2b20211012 Requires-Python >=3.6, <3.9; 0.3.2b20211013 Requires-Python >=3.6, <3.9; 0.3.2b20211014 Requires-Python >=3.6, <3.9; 0.3.2b20211015 Requires-Python >=3.6, <3.9; 0.3.2b20211016 Requires-Python >=3.6, <3.9; 0.3.2b20211017 Requires-Python >=3.6, <3.9; 0.3.2b20211018 Requires-Python >=3.6, <3.9; 0.3.2b20211019 Requires-Python >=3.6, <3.9; 0.3.2b20211020 Requires-Python >=3.6, <3.10; 0.3.2b20211021 Requires-Python >=3.6, <3.10; 0.3.2b20211022 Requires-Python >=3.6, <3.10; 0.3.2b20211023 Requires-Python >=3.6, <3.10; 0.3.2b20211024 Requires-Python >=3.6, <3.10; 0.3.2b20211025 Requires-Python >=3.6, <3.10; 0.3.2b20211026 Requires-Python >=3.6, <3.10; 0.3.2b20211027 Requires-Python >=3.6, <3.10; 0.3.2b20211028 Requires-Python >=3.6, <3.10; 0.3.2b20211029 Requires-Python >=3.6, <3.10; 0.3.2b20211030 Requires-Python >=3.6, <3.10; 0.3.2b20211031 Requires-Python >=3.6, <3.10; 0.3.2b20211101 Requires-Python >=3.6, <3.10; 0.3.2b20211102 Requires-Python >=3.6, <3.10; 0.3.2b20211103 Requires-Python >=3.6, <3.10; 0.3.2b20211104 Requires-Python >=3.6, <3.10; 0.3.2b20211105 Requires-Python >=3.6, <3.10; 0.3.2b20211106 Requires-Python >=3.6, <3.10; 0.3.2b20211107 Requires-Python >=3.6, <3.10; 0.3.2b20211108 Requires-Python >=3.6, <3.10; 0.3.2b20211109 Requires-Python >=3.6, <3.10; 0.3.2b20211110 Requires-Python >=3.6, <3.10; 0.3.2b20211111 Requires-Python >=3.6, <3.10; 0.3.2b20211112 Requires-Python >=3.7, <3.10; 0.3.2b20211113 Requires-Python >=3.7, <3.10; 0.3.2b20211114 Requires-Python >=3.7, <3.10; 0.3.2b20211115 Requires-Python >=3.7, <3.10; 0.3.2b20211116 Requires-Python >=3.7, <3.10; 0.3.2b20211117 Requires-Python >=3.7, <3.10; 0.3.2b20211118 Requires-Python >=3.7, <3.10; 0.3.2b20211119 Requires-Python >=3.7, <3.10; 0.3.2b20211120 Requires-Python >=3.7, <3.10; 0.3.2b20211121 Requires-Python >=3.7, <3.10; 0.3.2b20211122 Requires-Python >=3.7, <3.10; 0.3.2b20211123 Requires-Python >=3.7, <3.10; 0.3.2b20211124 Requires-Python >=3.7, <3.10; 0.3.2b20211125 Requires-Python >=3.7, <3.10; 0.3.2b20211126 Requires-Python >=3.7, <3.10; 0.3.2b20211127 Requires-Python >=3.7, <3.10; 0.3.2b20211128 Requires-Python >=3.7, <3.10; 0.3.2b20211129 Requires-Python >=3.7, <3.10; 0.3.2b20211130 Requires-Python >=3.7, <3.10; 0.3.2b20211201 Requires-Python >=3.7, <3.10; 0.3.2b20211202 Requires-Python >=3.7, <3.10; 0.3.2b20211203 Requires-Python >=3.7, <3.10; 0.3.2b20211204 Requires-Python >=3.7, <3.10; 0.3.2b20211205 Requires-Python >=3.7, <3.10; 0.3.2b20211206 Requires-Python >=3.7, <3.10; 0.3.2b20211207 Requires-Python >=3.7, <3.10; 0.3.2b20211208 Requires-Python >=3.7, <3.10; 0.3.2b20211209 Requires-Python >=3.7, <3.10; 0.3.2b20211210 Requires-Python >=3.7, <3.10; 0.3.2b20211211 Requires-Python >=3.7, <3.10; 0.3.2b20211212 Requires-Python >=3.7, <3.10; 0.3.2b20211213 Requires-Python >=3.7, <3.10; 0.3.2b20211214 Requires-Python >=3.7, <3.10; 0.3.2b20211215 Requires-Python >=3.7, <3.10; 0.3.2b20211216 Requires-Python >=3.7, <3.10; 0.3.2b20211217 Requires-Python >=3.7, <3.10; 0.3.2b20211218 Requires-Python >=3.7, <3.10; 0.3.2b20211219 Requires-Python >=3.7, <3.10; 0.3.2b20211220 Requires-Python >=3.7, <3.10; 0.3.2b20211221 Requires-Python >=3.7, <3.10; 0.3.2b20211222 Requires-Python >=3.7, <3.10; 0.3.2b20211223 Requires-Python >=3.7, <3.10; 0.3.2b20211224 Requires-Python >=3.7, <3.10; 0.3.2b20211225 Requires-Python >=3.7, <3.10; 0.3.2b20211226 Requires-Python >=3.7, <3.10; 0.3.2b20211227 Requires-Python >=3.7, <3.10; 0.3.2b20211228 Requires-Python >=3.7, <3.10; 0.3.2b20211229 Requires-Python >=3.7, <3.10; 0.3.2b20211230 Requires-Python >=3.7, <3.10; 0.3.2b20211231 Requires-Python >=3.7, <3.10; 0.3.2b20220101 Requires-Python >=3.7, <3.10; 0.3.2b20220102 Requires-Python >=3.7, <3.10; 0.3.2b20220103 Requires-Python >=3.7, <3.10; 0.3.2b20220104 Requires-Python >=3.7, <3.10; 0.3.2b20220105 Requires-Python >=3.7, <3.10; 0.3.2b20220106 Requires-Python >=3.7, <3.10; 0.3.2b20220107 Requires-Python >=3.7, <3.10; 0.3.2b20220108 Requires-Python >=3.7, <3.10; 0.3.2b20220109 Requires-Python >=3.7, <3.10; 0.3.2b20220110 Requires-Python >=3.7, <3.10; 0.3.2b20220111 Requires-Python >=3.7, <3.10; 0.3.2b20220112 Requires-Python >=3.7, <3.10; 0.3.2b20220113 Requires-Python >=3.7, <3.10; 0.3.2b20220114 Requires-Python >=3.7, <3.10; 0.3.2b20220115 Requires-Python >=3.7, <3.10; 0.3.2b20220116 Requires-Python >=3.7, <3.10; 0.3.2b20220117 Requires-Python >=3.7, <3.10; 0.3.2b20220118 Requires-Python >=3.7, <3.10; 0.3.2b20220119 Requires-Python >=3.7, <3.10; 0.3.2b20220120 Requires-Python >=3.7, <3.10; 0.3.2b20220121 Requires-Python >=3.7, <3.10; 0.3.2b20220122 Requires-Python >=3.7, <3.10; 0.3.2b20220123 Requires-Python >=3.7, <3.10; 0.3.2b20220124 Requires-Python >=3.7, <3.10; 0.3.2b20220125 Requires-Python >=3.7, <3.10; 0.3.2b20220126 Requires-Python >=3.7, <3.10; 0.3.2b20220127 Requires-Python >=3.7, <3.10; 0.3.2b20220128 Requires-Python >=3.7, <3.10; 0.3.2b20220129 Requires-Python >=3.7, <3.10; 0.3.2b20220130 Requires-Python >=3.7, <3.10; 0.3.2b20220131 Requires-Python >=3.7, <3.10; 0.3.2b20220201 Requires-Python >=3.7, <3.10; 0.3.2b20220202 Requires-Python >=3.7, <3.10; 0.3.2b20220203 Requires-Python >=3.7, <3.10; 0.3.2b20220204 Requires-Python >=3.7, <3.10; 0.3.2b20220205 Requires-Python >=3.7, <3.10; 0.3.2b20220206 Requires-Python >=3.7, <3.10; 0.3.2b20220207 Requires-Python >=3.7, <3.10; 0.3.2b20220208 Requires-Python >=3.7, <3.10; 0.3.2b20220209 Requires-Python >=3.7, <3.10; 0.3.2b20220210 Requires-Python >=3.7, <3.10; 0.3.2b20220211 Requires-Python >=3.7, <3.10; 0.3.2b20220212 Requires-Python >=3.7, <3.10; 0.3.2b20220213 Requires-Python >=3.7, <3.10; 0.3.2b20220214 Requires-Python >=3.7, <3.10; 0.3.2b20220215 Requires-Python >=3.7, <3.10; 0.3.2b20220216 Requires-Python >=3.7, <3.10; 0.3.2b20220217 Requires-Python >=3.7, <3.10; 0.3.2b20220218 Requires-Python >=3.7, <3.10; 0.3.2b20220219 Requires-Python >=3.7, <3.10; 0.3.2b20220220 Requires-Python >=3.7, <3.10; 0.3.2b20220221 Requires-Python >=3.7, <3.10; 0.3.2b20220222 Requires-Python >=3.7, <3.10; 0.3.2b20220223 Requires-Python >=3.7, <3.10; 0.3.2b20220224 Requires-Python >=3.7, <3.10; 0.3.2b20220225 Requires-Python >=3.7, <3.10; 0.3.2b20220226 Requires-Python >=3.7, <3.10; 0.3.2b20220227 Requires-Python >=3.7, <3.10; 0.3.2b20220228 Requires-Python >=3.7, <3.10; 0.3.2b20220301 Requires-Python >=3.7, <3.10; 0.3.2b20220302 Requires-Python >=3.7, <3.10; 0.3.2b20220303 Requires-Python >=3.7, <3.10; 0.3.2b20220304 Requires-Python >=3.7, <3.10; 0.3.2b20220305 Requires-Python >=3.7, <3.10; 0.3.2b20220306 Requires-Python >=3.7, <3.10; 0.3.2b20220307 Requires-Python >=3.7, <3.10; 0.3.2b20220308 Requires-Python >=3.7, <3.10; 0.3.2b20220309 Requires-Python >=3.7, <3.10; 0.4.0 Requires-Python >=3.7, <3.10; 0.4.1 Requires-Python >=3.7, <3.10; 0.4.1b20220310 Requires-Python >=3.7, <3.10; 0.4.1b20220311 Requires-Python >=3.7, <3.10; 0.4.1b20220312 Requires-Python >=3.7, <3.10; 0.4.1b20220313 Requires-Python >=3.7, <3.10; 0.4.1b20220314 Requires-Python >=3.7, <3.10; 0.4.1b20220315 Requires-Python >=3.7, <3.10; 0.4.1b20220316 Requires-Python >=3.7, <3.10; 0.4.1b20220317 Requires-Python >=3.7, <3.10; 0.4.1b20220318 Requires-Python >=3.7, <3.10; 0.4.1b20220319 Requires-Python >=3.7, <3.10; 0.4.1b20220320 Requires-Python >=3.7, <3.10; 0.4.1b20220321 Requires-Python >=3.7, <3.10; 0.4.1b20220322 Requires-Python >=3.7, <3.10; 0.4.1b20220323 Requires-Python >=3.7, <3.10; 0.4.1b20220324 Requires-Python >=3.7, <3.10; 0.4.1b20220325 Requires-Python >=3.7, <3.10; 0.4.1b20220326 Requires-Python >=3.7, <3.10; 0.4.1b20220327 Requires-Python >=3.7, <3.10; 0.4.1b20220328 Requires-Python >=3.7, <3.10; 0.4.1b20220329 Requires-Python >=3.7, <3.10; 0.4.1b20220330 Requires-Python >=3.7, <3.10; 0.4.1b20220331 Requires-Python >=3.7, <3.10; 0.4.1b20220401 Requires-Python >=3.7, <3.10; 0.4.1b20220402 Requires-Python >=3.7, <3.10; 0.4.1b20220403 Requires-Python >=3.7, <3.10; 0.4.1b20220404 Requires-Python >=3.7, <3.10; 0.4.1b20220405 Requires-Python >=3.7, <3.10; 0.4.1b20220406 Requires-Python >=3.7, <3.10; 0.4.1b20220407 Requires-Python >=3.7, <3.10; 0.4.1b20220408 Requires-Python >=3.7, <3.10; 0.4.1b20220409 Requires-Python >=3.7, <3.10; 0.4.1b20220410 Requires-Python >=3.7, <3.10; 0.4.1b20220411 Requires-Python >=3.7, <3.10; 0.4.1b20220412 Requires-Python >=3.7, <3.10; 0.4.1b20220413 Requires-Python >=3.7, <3.10; 0.4.1b20220414 Requires-Python >=3.7, <3.10; 0.4.1b20220415 Requires-Python >=3.7, <3.10; 0.4.1b20220416 Requires-Python >=3.7, <3.10; 0.4.1b20220417 Requires-Python >=3.7, <3.10; 0.4.1b20220418 Requires-Python >=3.7, <3.10; 0.4.1b20220419 Requires-Python >=3.7, <3.10; 0.4.1b20220420 Requires-Python >=3.7, <3.10; 0.4.1b20220421 Requires-Python >=3.7, <3.10; 0.4.1b20220422 Requires-Python >=3.7, <3.10; 0.4.1b20220423 Requires-Python >=3.7, <3.10; 0.4.1b20220424 Requires-Python >=3.7, <3.10; 0.4.1b20220425 Requires-Python >=3.7, <3.10; 0.4.1b20220426 Requires-Python >=3.7, <3.10; 0.4.1b20220427 Requires-Python >=3.7, <3.10; 0.4.1b20220428 Requires-Python >=3.7, <3.10; 0.4.1b20220429 Requires-Python >=3.7, <3.10; 0.4.1b20220430 Requires-Python >=3.7, <3.10; 0.4.1b20220501 Requires-Python >=3.7, <3.10; 0.4.1b20220502 Requires-Python >=3.7, <3.10; 0.4.1b20220503 Requires-Python >=3.7, <3.10; 0.4.1b20220504 Requires-Python >=3.7, <3.10; 0.4.1b20220505 Requires-Python >=3.7, <3.10; 0.4.1b20220506 Requires-Python >=3.7, <3.10; 0.4.1b20220507 Requires-Python >=3.7, <3.10; 0.4.1b20220508 Requires-Python >=3.7, <3.10; 0.4.1b20220509 Requires-Python >=3.7, <3.10; 0.4.1b20220510 Requires-Python >=3.7, <3.10; 0.4.1b20220511 Requires-Python >=3.7, <3.10; 0.4.1b20220512 Requires-Python >=3.7, <3.10; 0.4.1b20220513 Requires-Python >=3.7, <3.10; 0.4.1b20220514 Requires-Python >=3.7, <3.10; 0.4.1b20220515 Requires-Python >=3.7, <3.10; 0.4.1b20220516 Requires-Python >=3.7, <3.10; 0.4.1b20220517 Requires-Python >=3.7, <3.10; 0.4.1b20220518 Requires-Python >=3.7, <3.10; 0.4.1b20220519 Requires-Python >=3.7, <3.10; 0.4.1b20220520 Requires-Python >=3.7, <3.10; 0.4.2 Requires-Python >=3.7, <3.10; 0.4.2b20220521 Requires-Python >=3.7, <3.10; 0.4.2b20220522 Requires-Python >=3.7, <3.10; 0.4.2b20220523 Requires-Python >=3.7, <3.10; 0.4.2b20220524 Requires-Python >=3.7, <3.10; 0.4.2b20220525 Requires-Python >=3.7, <3.10; 0.4.2b20220526 Requires-Python >=3.7, <3.10; 0.4.2b20220527 Requires-Python >=3.7, <3.10; 0.4.2b20220528 Requires-Python >=3.7, <3.10; 0.4.2b20220529 Requires-Python >=3.7, <3.10; 0.4.2b20220530 Requires-Python >=3.7, <3.10; 0.4.2b20220531 Requires-Python >=3.7, <3.10; 0.4.3 Requires-Python >=3.7, <3.10; 0.4.3b20220601 Requires-Python >=3.7, <3.10; 0.4.3b20220602 Requires-Python >=3.7, <3.10; 0.4.3b20220603 Requires-Python >=3.7, <3.10; 0.4.3b20220604 Requires-Python >=3.7, <3.10; 0.4.3b20220605 Requires-Python >=3.7, <3.10; 0.4.3b20220606 Requires-Python >=3.7, <3.10; 0.4.3b20220607 Requires-Python >=3.7, <3.10; 0.4.3b20220608 Requires-Python >=3.7, <3.10; 0.4.3b20220609 Requires-Python >=3.7, <3.10; 0.4.3b20220610 Requires-Python >=3.7, <3.10; 0.4.3b20220611 Requires-Python >=3.7, <3.10; 0.4.3b20220612 Requires-Python >=3.7, <3.10; 0.4.3b20220613 Requires-Python >=3.7, <3.10; 0.4.3b20220614 Requires-Python >=3.7, <3.10; 0.4.3b20220615 Requires-Python >=3.7, <3.10; 0.4.3b20220616 Requires-Python >=3.7, <3.10; 0.4.3b20220617 Requires-Python >=3.7, <3.10; 0.4.3b20220618 Requires-Python >=3.7, <3.10; 0.4.3b20220619 Requires-Python >=3.7, <3.10; 0.4.3b20220620 Requires-Python >=3.7, <3.10; 0.4.3b20220621 Requires-Python >=3.7, <3.10; 0.4.3b20220622 Requires-Python >=3.7, <3.10; 0.5.0 Requires-Python >=3.7, <3.10; 0.5.0b20220623 Requires-Python >=3.7, <3.10; 0.5.0rc1 Requires-Python >=3.7, <3.10; 0.5.1 Requires-Python >=3.7, <3.10; 0.5.1b20220624 Requires-Python >=3.7, <3.10; 0.5.1b20220625 Requires-Python >=3.7, <3.10; 0.5.1b20220626 Requires-Python >=3.7, <3.10; 0.5.1b20220627 Requires-Python >=3.7, <3.10; 0.5.1b20220628 Requires-Python >=3.7, <3.10; 0.5.1b20220629 Requires-Python >=3.7, <3.10; 0.5.1b20220630 Requires-Python >=3.7, <3.10; 0.5.1b20220701 Requires-Python >=3.7, <3.10; 0.5.1b20220702 Requires-Python >=3.7, <3.10; 0.5.1b20220703 Requires-Python >=3.7, <3.10; 0.5.1b20220704 Requires-Python >=3.7, <3.10; 0.5.1b20220705 Requires-Python >=3.7, <3.10; 0.5.1b20220706 Requires-Python >=3.7, <3.10; 0.5.1b20220707 Requires-Python >=3.7, <3.10; 0.5.1b20220708 Requires-Python >=3.7, <3.10; 0.5.1b20220709 Requires-Python >=3.7, <3.10; 0.5.1b20220710 Requires-Python >=3.7, <3.10; 0.5.1b20220711 Requires-Python >=3.7, <3.10; 0.5.1b20220712 Requires-Python >=3.7, <3.10; 0.5.1b20220713 Requires-Python >=3.7, <3.10; 0.5.1b20220714 Requires-Python >=3.7, <3.10; 0.5.1b20220715 Requires-Python >=3.7, <3.10; 0.5.1b20220716 Requires-Python >=3.7, <3.10; 0.5.1b20220717 Requires-Python >=3.7, <3.10; 0.5.1b20220718 Requires-Python >=3.7, <3.10; 0.5.2 Requires-Python >=3.7, <3.10; 0.5.2b20220719 Requires-Python >=3.7, <3.10; 0.5.2b20220720 Requires-Python >=3.7, <3.10; 0.5.2b20220721 Requires-Python >=3.7, <3.10; 0.5.2b20220722 Requires-Python >=3.7, <3.10; 0.5.2b20220723 Requires-Python >=3.7, <3.10; 0.5.2b20220724 Requires-Python >=3.7, <3.10; 0.5.2b20220725 Requires-Python >=3.7, <3.10; 0.5.2b20220726 Requires-Python >=3.7, <3.10; 0.5.2b20220727 Requires-Python >=3.7, <3.10; 0.5.2b20220728 Requires-Python >=3.7, <3.10; 0.5.3 Requires-Python >=3.7, <3.10; 0.5.3b20220729 Requires-Python >=3.7, <3.10; 0.5.3b20220730 Requires-Python >=3.7, <3.10; 0.5.3b20220731 Requires-Python >=3.7, <3.10; 0.5.3b20220801 Requires-Python >=3.7, <3.10; 0.5.3b20220802 Requires-Python >=3.7, <3.10; 0.5.3b20220803 Requires-Python >=3.7, <3.10; 0.5.3b20220804 Requires-Python >=3.7, <3.10; 0.5.3b20220805 Requires-Python >=3.7, <3.10; 0.5.3b20220806 Requires-Python >=3.7, <3.10; 0.5.3b20220807 Requires-Python >=3.7, <3.10; 0.5.3b20220808 Requires-Python >=3.7, <3.10; 0.5.3b20220809 Requires-Python >=3.7, <3.10; 0.5.3b20220810 Requires-Python >=3.7, <3.10; 0.5.3b20220811 Requires-Python >=3.7, <3.10; 0.5.3b20220812 Requires-Python >=3.7, <3.10; 0.5.3b20220813 Requires-Python >=3.7, <3.10; 0.5.3b20220814 Requires-Python >=3.7, <3.10; 0.5.3b20220815 Requires-Python >=3.7, <3.10; 0.5.3b20220816 Requires-Python >=3.7, <3.10; 0.5.3b20220817 Requires-Python >=3.7, <3.10; 0.5.3b20220818 Requires-Python >=3.7, <3.10; 0.5.3b20220819 Requires-Python >=3.7, <3.10; 0.5.3b20220820 Requires-Python >=3.7, <3.10; 0.5.3b20220821 Requires-Python >=3.7, <3.10; 0.5.3b20220822 Requires-Python >=3.7, <3.10; 0.5.3b20220823 Requires-Python >=3.7, <3.10; 0.5.3b20220824 Requires-Python >=3.7, <3.10; 0.5.3b20220825 Requires-Python >=3.7, <3.10; 0.5.3b20220826 Requires-Python >=3.7, <3.10; 0.5.3b20220827 Requires-Python >=3.7, <3.10; 0.5.3b20220828 Requires-Python >=3.7, <3.10; 0.5.3b20220829 Requires-Python >=3.7, <3.10; 0.5.3b20220830 Requires-Python >=3.7, <3.10; 0.5.3b20220831 Requires-Python >=3.7, <3.10; 0.5.3b20220901 Requires-Python >=3.7, <3.10; 0.5.3b20220902 Requires-Python >=3.7, <3.10; 0.5.3b20220903 Requires-Python >=3.7, <3.10; 0.5.3b20220904 Requires-Python >=3.7, <3.10; 0.5.3b20220905 Requires-Python >=3.7, <3.10; 0.5.3b20220906 Requires-Python >=3.7, <3.10; 0.5.3b20220907 Requires-Python >=3.7, <3.10; 0.5.3b20220908 Requires-Python >=3.7, <3.10; 0.5.3b20220909 Requires-Python >=3.7, <3.10; 0.5.3b20220910 Requires-Python >=3.7, <3.10; 0.5.3b20220911 Requires-Python >=3.7, <3.10; 0.5.3b20220912 Requires-Python >=3.7, <3.10; 0.5.3b20220913 Requires-Python >=3.7, <3.10; 0.5.3b20220914 Requires-Python >=3.7, <3.10; 0.5.3b20220915 Requires-Python >=3.7, <3.10; 0.5.3b20220916 Requires-Python >=3.7, <3.10; 0.5.3b20220917 Requires-Python >=3.7, <3.10; 0.5.3b20220918 Requires-Python >=3.7, <3.10; 0.5.3b20220919 Requires-Python >=3.7, <3.10; 0.5.3b20220920 Requires-Python >=3.7, <3.10; 0.5.3b20220921 Requires-Python >=3.7, <3.10; 0.5.3b20220922 Requires-Python >=3.7, <3.10; 0.5.3b20220923 Requires-Python >=3.7, <3.10; 0.5.3b20220924 Requires-Python >=3.7, <3.10; 0.5.3b20220925 Requires-Python >=3.7, <3.10; 0.5.3b20220926 Requires-Python >=3.7, <3.10; 0.5.3b20220927 Requires-Python >=3.7, <3.10; 0.5.3b20220928 Requires-Python >=3.7, <3.10; 0.5.3b20220929 Requires-Python >=3.7, <3.10; 0.5.3b20220930 Requires-Python >=3.7, <3.10; 0.5.3b20221001 Requires-Python >=3.7, <3.10; 0.5.3b20221002 Requires-Python >=3.7, <3.10; 0.5.3b20221003 Requires-Python >=3.7, <3.10; 0.5.3b20221004 Requires-Python >=3.7, <3.10; 0.5.3b20221005 Requires-Python >=3.7, <3.10; 0.5.3b20221006 Requires-Python >=3.7, <3.10; 0.5.3b20221007 Requires-Python >=3.7, <3.10; 0.5.3b20221008 Requires-Python >=3.7, <3.10; 0.5.3b20221009 Requires-Python >=3.7, <3.10; 0.5.3b20221010 Requires-Python >=3.7, <3.10; 0.5.3b20221011 Requires-Python >=3.7, <3.10; 0.5.3b20221012 Requires-Python >=3.7, <3.10; 0.5.3b20221013 Requires-Python >=3.7, <3.10; 0.5.3b20221014 Requires-Python >=3.7, <3.10; 0.5.3b20221015 Requires-Python >=3.7, <3.10; 0.5.3b20221016 Requires-Python >=3.7, <3.10; 0.5.3b20221017 Requires-Python >=3.7, <3.10; 0.5.3b20221018 Requires-Python >=3.7, <3.10; 0.5.3b20221019 Requires-Python >=3.7, <3.10; 0.5.3b20221020 Requires-Python >=3.7, <3.10; 0.5.3b20221021 Requires-Python >=3.7, <3.10; 0.5.3b20221022 Requires-Python >=3.7, <3.10; 0.5.3b20221023 Requires-Python >=3.7, <3.10; 0.5.3b20221024 Requires-Python >=3.7, <3.10; 0.5.3b20221025 Requires-Python >=3.7, <3.10; 0.5.3b20221026 Requires-Python >=3.7, <3.10; 0.5.3b20221027 Requires-Python >=3.7, <3.10; 0.5.3b20221028 Requires-Python >=3.7, <3.10; 0.5.3b20221029 Requires-Python >=3.7, <3.10; 0.5.3b20221030 Requires-Python >=3.7, <3.10; 0.5.3b20221031 Requires-Python >=3.7, <3.10; 0.5.3b20221101 Requires-Python >=3.7, <3.10; 0.5.3b20221102 Requires-Python >=3.7, <3.10; 0.5.3b20221103 Requires-Python >=3.7, <3.10; 0.5.3b20221112 Requires-Python >=3.7, <3.10; 0.5.3b20221113 Requires-Python >=3.7, <3.10; 0.5.3b20221114 Requires-Python >=3.7, <3.10; 0.5.3b20221115 Requires-Python >=3.7, <3.10; 0.5.3b20221116 Requires-Python >=3.7, <3.10; 0.6.0 Requires-Python >=3.7, <3.10; 0.6.1 Requires-Python >=3.7, <3.10; 0.6.1b20221117 Requires-Python >=3.7, <3.10; 0.6.1b20221118 Requires-Python >=3.7, <3.10; 0.6.1b20221119 Requires-Python >=3.7, <3.10; 0.6.1b20221120 Requires-Python >=3.7, <3.10; 0.6.1b20221121 Requires-Python >=3.7, <3.10; 0.6.1b20221122 Requires-Python >=3.7, <3.10; 0.6.1b20221123 Requires-Python >=3.7, <3.10; 0.6.1b20221124 Requires-Python >=3.7, <3.10; 0.6.1b20221125 Requires-Python >=3.7, <3.10; 0.6.1b20221126 Requires-Python >=3.7, <3.10; 0.6.1b20221127 Requires-Python >=3.7, <3.10; 0.6.1b20221128 Requires-Python >=3.7, <3.10; 0.6.1b20221129 Requires-Python >=3.7, <3.10; 0.6.1b20221130 Requires-Python >=3.7, <3.10; 0.6.1b20221201 Requires-Python >=3.7, <3.10; 0.6.1b20221202 Requires-Python >=3.7, <3.10; 0.6.1b20221203 Requires-Python >=3.7, <3.10; 0.6.1b20221204 Requires-Python >=3.7, <3.10; 0.6.1b20221205 Requires-Python >=3.7, <3.10; 0.6.1b20221206 Requires-Python >=3.7, <3.10; 0.6.1b20221207 Requires-Python >=3.7, <3.10; 0.6.1b20221208 Requires-Python >=3.7, <3.10; 0.6.1b20221209 Requires-Python >=3.7, <3.10; 0.6.1b20221210 Requires-Python >=3.7, <3.10; 0.6.1b20221211 Requires-Python >=3.7, <3.10; 0.6.1b20221212 Requires-Python >=3.7, <3.10; 0.6.2b20221213 Requires-Python >=3.7, <3.10; 0.6.2b20221214 Requires-Python >=3.7, <3.10; 0.6.2b20221215 Requires-Python >=3.7, <3.10; 0.6.2b20221216 Requires-Python >=3.7, <3.10; 0.6.2b20221217 Requires-Python >=3.7, <3.10; 0.6.2b20221218 Requires-Python >=3.7, <3.10; 0.6.2b20221219 Requires-Python >=3.7, <3.10; 0.6.2b20221220 Requires-Python >=3.7, <3.10; 0.6.2b20221221 Requires-Python >=3.7, <3.10; 0.6.2b20221222 Requires-Python >=3.7, <3.10; 0.6.2b20221223 Requires-Python >=3.7, <3.10; 0.6.2b20221224 Requires-Python >=3.7, <3.10; 0.6.2b20221225 Requires-Python >=3.7, <3.10; 0.6.2b20221226 Requires-Python >=3.7, <3.10; 0.6.2b20221227 Requires-Python >=3.7, <3.10; 0.6.2b20221228 Requires-Python >=3.7, <3.10; 0.6.2b20221229 Requires-Python >=3.7, <3.10; 0.6.2b20221230 Requires-Python >=3.7, <3.10; 0.6.2b20221231 Requires-Python >=3.7, <3.10\u001b[0m\u001b[31m\n",
      "\u001b[0m\u001b[31mERROR: Could not find a version that satisfies the requirement autogluon (from versions: 0.0.2, 0.0.3, 0.0.4, 0.0.5, 0.0.6b4042020, 0.0.6, 0.0.7b1052020, 0.0.7b2052020, 0.0.7b3052020, 0.0.7b4042020, 0.0.7b4052020, 0.0.7b5052020, 0.0.7b6042020, 0.0.7b6052020, 0.0.7b7042020, 0.0.7b7052020, 0.0.7b8052020, 0.0.7b9052020, 0.0.7b10052020, 0.0.7b11052020, 0.0.7b12042020, 0.0.7b14042020, 0.0.7b15042020, 0.0.7b16042020, 0.0.7b17042020, 0.0.7b18042020, 0.0.7b19042020, 0.0.7b20042020, 0.0.7b21042020, 0.0.7b22042020, 0.0.7b23042020, 0.0.7b24042020, 0.0.7b25042020, 0.0.7b26042020, 0.0.7b27042020, 0.0.7b28042020, 0.0.7b29042020, 0.0.7b30042020, 0.0.7, 0.0.8b20200512, 0.0.8, 0.0.9b20200513, 0.0.9, 0.0.10b20200514, 0.0.10b20200515, 0.0.10b20200516, 0.0.10b20200517, 0.0.10b20200518, 0.0.10b20200519, 0.0.10b20200520, 0.0.10b20200521, 0.0.10b20200522, 0.0.10b20200523, 0.0.10b20200524, 0.0.10b20200525, 0.0.10b20200526, 0.0.10b20200527, 0.0.10b20200528, 0.0.10b20200529, 0.0.10b20200530, 0.0.10b20200531, 0.0.10b20200601, 0.0.10b20200602, 0.0.10b20200603, 0.0.10, 0.0.11b20200604, 0.0.11b20200605, 0.0.11b20200606, 0.0.11b20200607, 0.0.11b20200608, 0.0.11b20200609, 0.0.11b20200610, 0.0.11b20200611, 0.0.11b20200612, 0.0.11b20200613, 0.0.11b20200614, 0.0.11, 0.0.12b20200615, 0.0.12b20200616, 0.0.12b20200617, 0.0.12b20200618, 0.0.12b20200619, 0.0.12b20200620, 0.0.12b20200621, 0.0.12b20200622, 0.0.12b20200623, 0.0.12b20200624, 0.0.12b20200625, 0.0.12b20200626, 0.0.12b20200627, 0.0.12b20200628, 0.0.12b20200629, 0.0.12b20200630, 0.0.12b20200701, 0.0.12b20200702, 0.0.12b20200703, 0.0.12b20200704, 0.0.12b20200705, 0.0.12b20200706, 0.0.12b20200707, 0.0.12b20200708, 0.0.12b20200709, 0.0.12b20200710, 0.0.12b20200711, 0.0.12b20200712, 0.0.12b20200713, 0.0.12, 0.0.13b20200714, 0.0.13b20200715, 0.0.13b20200716, 0.0.13b20200717, 0.0.13b20200718, 0.0.13b20200719, 0.0.13b20200720, 0.0.13b20200721, 0.0.13b20200722, 0.0.13b20200723, 0.0.13b20200724, 0.0.13b20200725, 0.0.13b20200726, 0.0.13b20200727, 0.0.13b20200728, 0.0.13b20200729, 0.0.13b20200730, 0.0.13b20200731, 0.0.13b20200801, 0.0.13b20200802, 0.0.13b20200803, 0.0.13b20200804, 0.0.13b20200805, 0.0.13b20200806, 0.0.13b20200807, 0.0.13b20200808, 0.0.13b20200809, 0.0.13b20200810, 0.0.13b20200811, 0.0.13b20200812, 0.0.13b20200813, 0.0.13b20200814, 0.0.13b20200815, 0.0.13b20200816, 0.0.13b20200817, 0.0.13b20200818, 0.0.13b20200819, 0.0.13b20200820, 0.0.13b20200821, 0.0.13b20200822, 0.0.13b20200823, 0.0.13b20200824, 0.0.13, 0.0.14b20200825, 0.0.14b20200826, 0.0.14b20200827, 0.0.14b20200828, 0.0.14b20200829, 0.0.14b20200830, 0.0.14b20200831, 0.0.14b20200901, 0.0.14b20200902, 0.0.14b20200903, 0.0.14b20200904, 0.0.14b20200905, 0.0.14b20200906, 0.0.14b20200907, 0.0.14b20200908, 0.0.14b20200909, 0.0.14b20200910, 0.0.14b20200911, 0.0.14b20200912, 0.0.14b20200913, 0.0.14b20200914, 0.0.14b20200915, 0.0.14b20200916, 0.0.14b20200917, 0.0.14b20200918, 0.0.14b20200919, 0.0.14b20200920, 0.0.14b20200921, 0.0.14b20200922, 0.0.14b20200923, 0.0.14b20200924, 0.0.14b20200925, 0.0.14b20200926, 0.0.14b20200927, 0.0.14b20200928, 0.0.14b20200929, 0.0.14b20200930, 0.0.14b20201001, 0.0.14b20201002, 0.0.14, 0.0.15b20201003, 0.0.15b20201004, 0.0.15b20201005, 0.0.15b20201006, 0.0.15b20201007, 0.0.15b20201008, 0.0.15b20201009, 0.0.15b20201010, 0.0.15b20201011, 0.0.15b20201012, 0.0.15b20201013, 0.0.15b20201014, 0.0.15b20201015, 0.0.15b20201016, 0.0.15b20201017, 0.0.15b20201018, 0.0.15b20201019, 0.0.15b20201020, 0.0.15b20201021, 0.0.15b20201022, 0.0.15b20201023, 0.0.15b20201024, 0.0.15b20201025, 0.0.15b20201026, 0.0.15b20201027, 0.0.15b20201028, 0.0.15b20201029, 0.0.15b20201030, 0.0.15b20201031, 0.0.15b20201101, 0.0.15b20201102, 0.0.15b20201103, 0.0.15b20201104, 0.0.15b20201105, 0.0.15b20201106, 0.0.15b20201107, 0.0.15b20201108, 0.0.15b20201109, 0.0.15b20201110, 0.0.15b20201111, 0.0.15b20201112, 0.0.15b20201113, 0.0.15b20201114, 0.0.15b20201115, 0.0.15b20201116, 0.0.15b20201117, 0.0.15b20201118, 0.0.15b20201119, 0.0.15b20201120, 0.0.15b20201121, 0.0.15b20201122, 0.0.15b20201123, 0.0.15b20201124, 0.0.15b20201125, 0.0.15b20201126, 0.0.15b20201127, 0.0.15b20201128, 0.0.15b20201129, 0.0.15b20201130, 0.0.15b20201201, 0.0.15b20201202, 0.0.15b20201203, 0.0.15b20201204, 0.0.15b20201205, 0.0.15b20201206, 0.0.15b20201207, 0.0.15, 0.0.16b20201208, 0.0.16b20201209, 0.0.16b20201210, 0.0.16b20201211, 0.0.16b20201212, 0.0.16b20201213, 0.0.16b20201214, 0.0.16b20201215, 0.0.16b20201216, 0.0.16b20201217, 0.0.16b20201218, 0.0.16b20201219, 0.0.16b20201220, 0.0.16b20201221, 0.0.16b20201222, 0.0.16b20201223, 0.0.16b20201224, 0.0.16b20201225, 0.0.16b20201226, 0.0.16b20201227, 0.0.16b20201228, 0.0.16b20201229, 0.0.16b20201230, 0.0.16b20201231, 0.0.16b20210101, 0.0.16b20210102, 0.0.16b20210103, 0.0.16b20210104, 0.0.16b20210105, 0.0.16b20210106, 0.0.16b20210107, 0.0.16b20210108, 0.0.16b20210109, 0.0.16b20210110, 0.0.16b20210111, 0.0.16b20210112, 0.0.16b20210113, 0.0.16b20210114, 0.0.16b20210115, 0.0.16b20210116, 0.0.16b20210117, 0.0.16b20210118, 0.0.16b20210119, 0.0.16b20210120, 0.0.16b20210121, 0.0.16b20210122, 0.0.16b20210123, 0.0.16b20210124, 0.0.16b20210125, 0.0.16b20210126, 0.0.16b20210127, 0.0.16b20210128, 0.0.16b20210129, 0.0.16b20210130, 0.0.16b20210131, 0.0.16b20210201, 0.0.16b20210202, 0.0.16b20210203, 0.0.16b20210204, 0.0.16b20210205, 0.0.16b20210206)\u001b[0m\u001b[31m\n",
      "\u001b[0m\u001b[31mERROR: No matching distribution found for autogluon\u001b[0m\u001b[31m\n",
      "\u001b[0m"
     ]
    }
   ],
   "source": [
    "!pip install -U pip\n",
    "!pip install -U setuptools wheel\n",
    "!pip install -U mxnet bokeh\n",
    "!pip install torch==1.12+cpu torchvision==0.13.0+cpu torchtext==0.13.0 -f https://download.pytorch.org/whl/cpu/torch_stable.html\n",
    "!pip install autogluon --no-cache-dir"
   ]
  },
  {
   "cell_type": "code",
   "execution_count": 2,
   "id": "6dfefd6d-ed7f-46e3-a0c0-befda8d6aa23",
   "metadata": {},
   "outputs": [
    {
     "ename": "ModuleNotFoundError",
     "evalue": "No module named 'autogluon'",
     "output_type": "error",
     "traceback": [
      "\u001b[0;31m---------------------------------------------------------------------------\u001b[0m",
      "\u001b[0;31mModuleNotFoundError\u001b[0m                       Traceback (most recent call last)",
      "Cell \u001b[0;32mIn[2], line 6\u001b[0m\n\u001b[1;32m      4\u001b[0m \u001b[38;5;28;01mfrom\u001b[39;00m \u001b[38;5;21;01msklearn\u001b[39;00m\u001b[38;5;21;01m.\u001b[39;00m\u001b[38;5;21;01mmetrics\u001b[39;00m \u001b[38;5;28;01mimport\u001b[39;00m r2_score, accuracy_score\n\u001b[1;32m      5\u001b[0m \u001b[38;5;28;01mfrom\u001b[39;00m \u001b[38;5;21;01msklearn\u001b[39;00m\u001b[38;5;21;01m.\u001b[39;00m\u001b[38;5;21;01mmodel_selection\u001b[39;00m \u001b[38;5;28;01mimport\u001b[39;00m train_test_split\n\u001b[0;32m----> 6\u001b[0m \u001b[38;5;28;01mfrom\u001b[39;00m \u001b[38;5;21;01mautogluon\u001b[39;00m\u001b[38;5;21;01m.\u001b[39;00m\u001b[38;5;21;01mtabular\u001b[39;00m \u001b[38;5;28;01mimport\u001b[39;00m TabularDataset, TabularPredictor\n",
      "\u001b[0;31mModuleNotFoundError\u001b[0m: No module named 'autogluon'"
     ]
    }
   ],
   "source": [
    "import numpy as np\n",
    "import pandas as pd\n",
    "from sklearn import datasets\n",
    "from sklearn.metrics import r2_score, accuracy_score\n",
    "from sklearn.model_selection import train_test_split\n",
    "from autogluon.tabular import TabularDataset, TabularPredictor"
   ]
  },
  {
   "cell_type": "markdown",
   "id": "66e6fd8c-df16-4109-a7a8-6c6ccb2cdf29",
   "metadata": {},
   "source": [
    "## AutoGluon Classifier"
   ]
  },
  {
   "cell_type": "code",
   "execution_count": null,
   "id": "fc9c70a0-c311-4cf7-befb-92641f071326",
   "metadata": {},
   "outputs": [],
   "source": [
    "# Load in the wine dataset\n",
    "wine = datasets.load_wine()"
   ]
  },
  {
   "cell_type": "code",
   "execution_count": null,
   "id": "2d674674-0c0f-4a2a-8d0a-c8b1fc4c11a0",
   "metadata": {},
   "outputs": [],
   "source": [
    "# Create the wine `data` dataset as a dataframe and name the columns with `feature_names`\n",
    "df = pd.DataFrame(wine[\"data\"], columns=wine[\"feature_names\"])\n",
    "\n",
    "# Include the target as well\n",
    "df['target'] = wine[\"target\"]"
   ]
  },
  {
   "cell_type": "code",
   "execution_count": null,
   "id": "75ee9c82-4e05-4952-8be9-7f823436d32b",
   "metadata": {},
   "outputs": [],
   "source": [
    "# Split your data with these ratios: train: 0.8 | test: 0.2\n",
    "df_train, df_test = train_test_split(df, test_size=0.2, random_state=0)"
   ]
  },
  {
   "cell_type": "code",
   "execution_count": null,
   "id": "7205ac08-20cd-48c5-a90e-44960f6d81f6",
   "metadata": {
    "tags": []
   },
   "outputs": [],
   "source": [
    "# How does the model perform on the training dataset and default model parameters?\n",
    "# Using the hyperparameters in the requirements, is there improvement?\n",
    "# Remember we use the test dataset to score the model\n",
    "# No need to explicitly say this is a classifier, autogluon will pick it up\n",
    "predictor = TabularPredictor(label=\"target\").fit(train_data=df_train, time_limit=120, presets=\"best_quality\")"
   ]
  },
  {
   "cell_type": "code",
   "execution_count": null,
   "id": "46b15550-b62b-4a80-857e-12710eee9e73",
   "metadata": {
    "tags": []
   },
   "outputs": [],
   "source": [
    "# Output the fit summary of the training run\n",
    "predictor.fit_summary()"
   ]
  },
  {
   "cell_type": "code",
   "execution_count": null,
   "id": "373d5630-84b5-4fbb-9b9a-08871ec4fe98",
   "metadata": {},
   "outputs": [],
   "source": [
    "# Evaluate the models performance on the test dataset\n",
    "performance = predictor.evaluate(df_test)"
   ]
  },
  {
   "cell_type": "markdown",
   "id": "8614c377-9f5b-4a2a-bc3c-0a049413b6e5",
   "metadata": {},
   "source": [
    "## AutoGluon Regression"
   ]
  },
  {
   "cell_type": "code",
   "execution_count": null,
   "id": "6fe39b07-53b3-4576-b392-1a1df77b43f7",
   "metadata": {},
   "outputs": [],
   "source": [
    "# Load in the diabetes dataset\n",
    "diabetes = datasets.load_diabetes()"
   ]
  },
  {
   "cell_type": "code",
   "execution_count": null,
   "id": "e36b9530-5bcd-40b4-a1f0-e6ad32bac145",
   "metadata": {},
   "outputs": [],
   "source": [
    "# Create the diabetes `data` dataset as a dataframe and name the columns with `feature_names`\n",
    "dfd = pd.DataFrame(diabetes[\"data\"], columns=diabetes[\"feature_names\"])\n",
    "\n",
    "# Include the target as well\n",
    "dfd['target'] = diabetes[\"target\"]"
   ]
  },
  {
   "cell_type": "code",
   "execution_count": null,
   "id": "85a9b895-00a5-48b9-951f-e36436255d5c",
   "metadata": {},
   "outputs": [],
   "source": [
    "# Split your data with these ratios: train: 0.8 | test: 0.2\n",
    "dfd_train, dfd_test = train_test_split(dfd, test_size=0.2, random_state=0)"
   ]
  },
  {
   "cell_type": "code",
   "execution_count": null,
   "id": "1b0f9d06-9436-4a4e-988d-f0ad00b26e10",
   "metadata": {
    "tags": []
   },
   "outputs": [],
   "source": [
    "# How does the model perform on the training dataset and default model parameters?\n",
    "# Using the hyperparameters in the requirements, is there improvement?\n",
    "# Remember we use the test dataset to score the model\n",
    "# No need to explicitly say this is a regression, autogluon will pick it up\n",
    "predictor = TabularPredictor(label=\"target\", problem_type=\"regression\", eval_metric=\"r2\").fit(train_data=dfd_train,\n",
    "    time_limit=120,\n",
    "    presets=\"best_quality\",)"
   ]
  },
  {
   "cell_type": "code",
   "execution_count": null,
   "id": "1b09621b-9ce7-4889-bcf9-c9b8687438ef",
   "metadata": {
    "tags": []
   },
   "outputs": [],
   "source": [
    "# Output the fit summary of the training run\n",
    "predictor.fit_summary()"
   ]
  },
  {
   "cell_type": "code",
   "execution_count": null,
   "id": "98c39401-a8cb-4e6c-aabb-c318f384e423",
   "metadata": {},
   "outputs": [],
   "source": [
    "# Evaluate the models performance on the test dataset\n",
    "performance = predictor.evaluate(dfd_test)"
   ]
  }
 ],
 "metadata": {
  "kernelspec": {
   "display_name": "Python 3 (ipykernel)",
   "language": "python",
   "name": "python3"
  },
  "language_info": {
   "codemirror_mode": {
    "name": "ipython",
    "version": 3
   },
   "file_extension": ".py",
   "mimetype": "text/x-python",
   "name": "python",
   "nbconvert_exporter": "python",
   "pygments_lexer": "ipython3",
   "version": "3.10.8"
  }
 },
 "nbformat": 4,
 "nbformat_minor": 5
}
